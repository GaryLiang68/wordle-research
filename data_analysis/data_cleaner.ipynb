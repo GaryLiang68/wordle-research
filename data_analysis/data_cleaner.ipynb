{
 "cells": [
  {
   "cell_type": "code",
   "execution_count": 94,
   "metadata": {},
   "outputs": [],
   "source": [
    "import pandas as pd\n",
    "import numpy as np\n",
    "import re\n",
    "\n",
    "file_path = r\"C:\\Users\\adamk\\Documents\\wordle_research\\wordle-research\\data_analysis\\cleaned_wordle_data_missing answers.csv\""
   ]
  },
  {
   "cell_type": "code",
   "execution_count": 95,
   "metadata": {},
   "outputs": [],
   "source": [
    "df = pd.read_csv(file_path)\n",
    "answers_df = pd.read_csv(r\"C:\\Users\\adamk\\Documents\\wordle_research\\wordle-research\\data_analysis\\answers.csv\")"
   ]
  },
  {
   "cell_type": "code",
   "execution_count": 96,
   "metadata": {},
   "outputs": [],
   "source": [
    "new_df = pd.DataFrame()\n",
    "\n",
    "# Copy the specified columns from the original DataFrame\n",
    "new_df[\"wordle_guesses\"] = df[\"wordle_guesses\"] if \"wordle_guesses\" in df else \"unknown\"\n",
    "new_df[\"num_guesses\"] = df[\"num_guesses\"] if \"num_guesses\" in df else \"unknown\"\n",
    "new_df[\"wordle_answer\"] = df[\"wordle_answer\"] if \"wordle_answer\" in df else \"unknown\"\n",
    "new_df[\"author\"] = df[\"author\"] if \"author\" in df else \"unknown\"\n",
    "\n",
    "# Define regex patterns\n",
    "title_pattern = r'^(Wordle)\\s+(\\d+)'\n",
    "asterisk_pattern = lambda wordle_id: rf'{wordle_id}.{{0,15}}\\*'\n",
    "\n",
    "\n",
    "# Function to extract Wordle title, ID, and hard mode status\n",
    "def extract_wordle_info(body_text):\n",
    "    # Default values\n",
    "    wordle_title = \"unknown\"\n",
    "    wordle_id = \"unknown\"\n",
    "    hard_mode = False\n",
    "    \n",
    "    # Extract title and wordle_id\n",
    "    match = re.search(title_pattern, body_text, re.MULTILINE)\n",
    "    if match:\n",
    "        wordle_title = match.group(1)\n",
    "        wordle_id = match.group(2)\n",
    "    \n",
    "    # Check for hard mode (asterisk pattern)\n",
    "    if wordle_id != \"unknown\":\n",
    "        if re.search(asterisk_pattern(wordle_id), body_text):\n",
    "            hard_mode = True\n",
    "    \n",
    "    return wordle_title, wordle_id, hard_mode\n",
    "\n",
    "def get_wordle_answer(row):\n",
    "    if row[\"wordle_answer\"] != \"unknown\":\n",
    "        return row[\"wordle_answer\"]\n",
    "    else:\n",
    "        wordle_id = row[\"wordle_id\"]  # Assuming 'wordle_id' is already computed and available\n",
    "        # Search in answers_df for the row with the same id\n",
    "        match = answers_df[answers_df[\"id\"] == wordle_id]\n",
    "        if not match.empty:\n",
    "            return match.iloc[0][\"word\"].lower()\n",
    "        else:\n",
    "            return \"unknown\""
   ]
  },
  {
   "cell_type": "code",
   "execution_count": 98,
   "metadata": {},
   "outputs": [],
   "source": [
    "new_df = pd.DataFrame()\n",
    "\n",
    "new_df[\"wordle_answer\"] = df.apply(get_wordle_answer, axis=1)\n",
    "\n",
    "\n",
    "\n",
    "# Display the new DataFrame\n",
    "print(new_df)"
   ]
  }
 ],
 "metadata": {
  "kernelspec": {
   "display_name": "wordle",
   "language": "python",
   "name": "python3"
  },
  "language_info": {
   "codemirror_mode": {
    "name": "ipython",
    "version": 3
   },
   "file_extension": ".py",
   "mimetype": "text/x-python",
   "name": "python",
   "nbconvert_exporter": "python",
   "pygments_lexer": "ipython3",
   "version": "3.12.6"
  }
 },
 "nbformat": 4,
 "nbformat_minor": 2
}
